{
  "nbformat": 4,
  "nbformat_minor": 0,
  "metadata": {
    "colab": {
      "provenance": [],
      "authorship_tag": "ABX9TyNfmUO1s99wxtXleFeCRrcA",
      "include_colab_link": true
    },
    "kernelspec": {
      "name": "python3",
      "display_name": "Python 3"
    }
  },
  "cells": [
    {
      "cell_type": "markdown",
      "metadata": {
        "id": "view-in-github",
        "colab_type": "text"
      },
      "source": [
        "<a href=\"https://colab.research.google.com/github/yurifillippo/Analises-Exploratorias-e-Python/blob/master/Conectar_BD_Postgres.ipynb\" target=\"_parent\"><img src=\"https://colab.research.google.com/assets/colab-badge.svg\" alt=\"Open In Colab\"/></a>"
      ]
    },
    {
      "cell_type": "code",
      "metadata": {
        "colab": {
          "base_uri": "https://localhost:8080/"
        },
        "id": "tXwGOEczJlS6",
        "outputId": "78803615-86dc-4780-ec7d-ee35b9ab2bfc"
      },
      "source": [
        "import psycopg2"
      ],
      "execution_count": null,
      "outputs": [
        {
          "output_type": "stream",
          "text": [
            "/usr/local/lib/python3.6/dist-packages/psycopg2/__init__.py:144: UserWarning: The psycopg2 wheel package will be renamed from release 2.8; in order to keep installing from binary please use \"pip install psycopg2-binary\" instead. For details see: <http://initd.org/psycopg/docs/install.html#binary-install-from-pypi>.\n",
            "  \"\"\")\n"
          ],
          "name": "stderr"
        }
      ]
    },
    {
      "cell_type": "code",
      "metadata": {
        "id": "fXzHs0VLJ1SY"
      },
      "source": [
        "#Conexão\n",
        "conexao = psycopg2.connect(host='localhost', database='BDSQL', user='postgres', password='masterkey', port=5432)"
      ],
      "execution_count": null,
      "outputs": []
    },
    {
      "cell_type": "code",
      "metadata": {
        "id": "5ZpfMDVkKerX"
      },
      "source": [
        "#Criar cursor\n",
        "cursor = conexao.cursor()\n",
        "#Definir consulta\n",
        "consutla = 'select * from clientes'\n",
        "#Executar\n",
        "cursor.execute(consulta)"
      ],
      "execution_count": null,
      "outputs": []
    },
    {
      "cell_type": "code",
      "metadata": {
        "id": "AnbrgOkjKw6e"
      },
      "source": [
        "#Recuperar registros\n",
        "registros = cursor.fetchal()"
      ],
      "execution_count": null,
      "outputs": []
    },
    {
      "cell_type": "code",
      "metadata": {
        "id": "EOq37M5ZK6LW"
      },
      "source": [
        "#Imprimir registros\n",
        "for row in registros:\n",
        "  print('Nome ', row[1])\n",
        "  print('Estado ', row[2])\n",
        "  print('Status ', row[4])"
      ],
      "execution_count": null,
      "outputs": []
    },
    {
      "cell_type": "code",
      "metadata": {
        "id": "9tO62sscLOBe"
      },
      "source": [
        "#Fechar conexao e cursor\n",
        "cursor.close()\n",
        "conexao.close()\n"
      ],
      "execution_count": null,
      "outputs": []
    }
  ]
}