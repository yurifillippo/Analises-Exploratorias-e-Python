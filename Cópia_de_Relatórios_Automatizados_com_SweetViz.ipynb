{
  "nbformat": 4,
  "nbformat_minor": 0,
  "metadata": {
    "colab": {
      "provenance": [],
      "include_colab_link": true
    },
    "kernelspec": {
      "name": "python3",
      "display_name": "Python 3"
    }
  },
  "cells": [
    {
      "cell_type": "markdown",
      "metadata": {
        "id": "view-in-github",
        "colab_type": "text"
      },
      "source": [
        "<a href=\"https://colab.research.google.com/github/yurifillippo/Analises-Exploratorias-e-Python/blob/master/C%C3%B3pia_de_Relat%C3%B3rios_Automatizados_com_SweetViz.ipynb\" target=\"_parent\"><img src=\"https://colab.research.google.com/assets/colab-badge.svg\" alt=\"Open In Colab\"/></a>"
      ]
    },
    {
      "cell_type": "markdown",
      "metadata": {
        "id": "e0n61gLCNKY6"
      },
      "source": [
        "<img alt=\"Colaboratory logo\" width=\"15%\" src=\"https://raw.githubusercontent.com/carlosfab/escola-data-science/master/img/novo_logo_bg_claro.png\">\n",
        "\n",
        "#### **Python do Zero**\n",
        "*by [sigmoidal.ai](https://sigmoidal.ai)*\n",
        "\n",
        "---\n",
        "\n",
        "# SweetViz\n",
        "\n",
        "<center><img width=\"45%\" src=\"https://miro.medium.com/max/700/1*jx_ShECen95-F_M5PH9HCA.png\"></center>\n",
        "\n",
        "\n",
        "A análise exploratória é fase essencial em qualquer projeto com dados. Entender bem nossos dados vai nos dar insights valiosos e direcionar nosso trabalho com eles.\n",
        "\n",
        "Apesar de demandar muito tempo e atenção, existem ferramentas que podem nos auxiliar e agilizar nosso trabalho. Uma delas é o [Sweet Viz](https://pypi.org/project/sweetviz/).\n",
        "\n",
        "Essa biblioteca é capaz de analisar e criar relatórios sobre nossos dados de forma automatizada, exigindo pouquíssimo código, reduzindo a curva de aprendizado para análises completas, economizando tempo, e nos dando belas visualizações, fáceis de navegar e entender."
      ]
    },
    {
      "cell_type": "markdown",
      "metadata": {
        "id": "_xA12Xb2Q3ui"
      },
      "source": [
        "## Instalando o Sweet Viz\n",
        "\n",
        "Por padrão, o Colab não possui essa biblioteca instalada. Portanto, precisamos fazer a instalação manualmente."
      ]
    },
    {
      "cell_type": "code",
      "metadata": {
        "id": "EYZ61_ibFG3w",
        "colab": {
          "base_uri": "https://localhost:8080/",
          "height": 52
        },
        "outputId": "e6e5f171-57d3-4297-a0eb-67fa932bb947"
      },
      "source": [
        "# instalando a biblioteca\n",
        "!pip install sweetviz -q"
      ],
      "execution_count": null,
      "outputs": [
        {
          "output_type": "stream",
          "text": [
            "\u001b[K     |████████████████████████████████| 327kB 2.8MB/s \n",
            "\u001b[K     |████████████████████████████████| 71kB 5.9MB/s \n",
            "\u001b[?25h"
          ],
          "name": "stdout"
        }
      ]
    },
    {
      "cell_type": "markdown",
      "metadata": {
        "id": "NOGsZlX7RAh_"
      },
      "source": [
        "Uma vez instalado, é só importar e começar a usar!"
      ]
    },
    {
      "cell_type": "markdown",
      "metadata": {
        "id": "gxercln9RD3J"
      },
      "source": [
        "## Carregando os Dados\n",
        "\n",
        "Agora que estamos com tudo pronto, é hora de importar os pacotes e iniciar nossa análise de dados.\n",
        "\n",
        "Para esse notebook, vamos utilizar um conjunto de dados proveniente de um e-commerce brasileiro. Os dados estão disponíveis no [Kaggle](https://www.kaggle.com/olistbr/brazilian-ecommerce). \n",
        "\n",
        "Originalmente, os dados estão em formato csv, mas organizamos eles em formato de planilha, para emular a realidade da maioria que utiliza planilhas de excel. Os dados organizados podem ser utilizados diretamente pelo link abaixo, e os originais, e mais informações sobre os dados podem ser encontrados [aqui](https://www.kaggle.com/olistbr/brazilian-ecommerce?select=olist_products_dataset.csv).\n",
        "\n",
        "Vamos utilizar o `pandas` para carregar os dados da mesma forma que vínhamos fazendo anteriormente."
      ]
    },
    {
      "cell_type": "code",
      "metadata": {
        "id": "ShdwkVFqFEjw"
      },
      "source": [
        "# importando os pacotes necessários\n",
        "import sweetviz\n",
        "import pandas as pd"
      ],
      "execution_count": null,
      "outputs": []
    },
    {
      "cell_type": "code",
      "metadata": {
        "id": "-uHGphODFGdm"
      },
      "source": [
        "# carregando os dados\n",
        "dados = pd.read_excel(\"https://www.dropbox.com/s/6zogl04a1h1sb3d/dados_ecommerce.xlsx?dl=1\", sheet_name=None,)"
      ],
      "execution_count": null,
      "outputs": []
    },
    {
      "cell_type": "markdown",
      "metadata": {
        "id": "p-GfWyIXTSyc"
      },
      "source": [
        "Uma vez carregados, da mesma forma que fizemos anteriormente, precisamos selecionar a aba que iremos trabalhar.\n",
        "\n",
        "O formato em que eles são recebidos não é \"amigável\", e não facilita nosso trabalho. Veja abaixo:"
      ]
    },
    {
      "cell_type": "code",
      "metadata": {
        "id": "URPl4wQmGcce",
        "colab": {
          "base_uri": "https://localhost:8080/",
          "height": 743
        },
        "outputId": "a991200d-8de6-4aa0-8603-1b5e12f47146"
      },
      "source": [
        "# verificando os dados\n",
        "dados"
      ],
      "execution_count": null,
      "outputs": [
        {
          "output_type": "execute_result",
          "data": {
            "text/plain": [
              "{'Clientes':                             customer_id  ... customer_state\n",
              " 0      06b8999e2fba1a1fbc88172c00ba8bc7  ...             SP\n",
              " 1      18955e83d337fd6b2def6b18a428ac77  ...             SP\n",
              " 2      4e7b3e00288586ebd08712fdd0374a03  ...             SP\n",
              " 3      b2b6027bc5c5109e529d4dc6358b12c3  ...             SP\n",
              " 4      4f2d8ab171c80ec8364f7c12e35b23ad  ...             SP\n",
              " ...                                 ...  ...            ...\n",
              " 99436  17ddf5dd5d51696bb3d7c6291687be6f  ...             SP\n",
              " 99437  e7b71a9017aa05c9a7fd292d714858e8  ...             SP\n",
              " 99438  5e28dfe12db7fb50a4b2f691faecea5e  ...             CE\n",
              " 99439  56b18e2166679b8a959d72dd06da27f9  ...             RS\n",
              " 99440  274fa6071e5e17fe303b9748641082c8  ...             SP\n",
              " \n",
              " [99441 rows x 5 columns],\n",
              " 'Itens':                                 order_id  order_item_id  ...   price freight_value\n",
              " 0       00010242fe8c5a6d1ba2dd792cb16214              1  ...   58.90         13.29\n",
              " 1       00018f77f2f0320c557190d7a144bdd3              1  ...  239.90         19.93\n",
              " 2       000229ec398224ef6ca0657da4fc703e              1  ...  199.00         17.87\n",
              " 3       00024acbcdf0a6daa1e931b038114c75              1  ...   12.99         12.79\n",
              " 4       00042b26cf59d7ce69dfabb4e55b4fd9              1  ...  199.90         18.14\n",
              " ...                                  ...            ...  ...     ...           ...\n",
              " 112645  fffc94f6ce00a00581880bf54a75a037              1  ...  299.99         43.41\n",
              " 112646  fffcd46ef2263f404302a634eb57f7eb              1  ...  350.00         36.53\n",
              " 112647  fffce4705a9662cd70adb13d4a31832d              1  ...   99.90         16.95\n",
              " 112648  fffe18544ffabc95dfada21779c9644f              1  ...   55.99          8.72\n",
              " 112649  fffe41c64501cc87c801fd61db3f6244              1  ...   43.00         12.79\n",
              " \n",
              " [112650 rows x 7 columns],\n",
              " 'Pagamentos':                                 order_id  ...  payment_value\n",
              " 0       b81ef226f3fe1789b1e8b2acac839d17  ...          99.33\n",
              " 1       a9810da82917af2d9aefd1278f1dcfa0  ...          24.39\n",
              " 2       25e8ea4e93396b6fa0d3dd708e76c1bd  ...          65.71\n",
              " 3       ba78997921bbcdc1373bb41e913ab953  ...         107.78\n",
              " 4       42fdf880ba16b47b59251dd489d4441a  ...         128.45\n",
              " ...                                  ...  ...            ...\n",
              " 103881  0406037ad97740d563a178ecc7a2075c  ...         363.31\n",
              " 103882  7b905861d7c825891d6347454ea7863f  ...          96.80\n",
              " 103883  32609bbb3dd69b3c066a6860554a77bf  ...          47.77\n",
              " 103884  b8b61059626efa996a60be9bb9320e10  ...         369.54\n",
              " 103885  28bbae6599b09d39ca406b747b6632b1  ...         191.58\n",
              " \n",
              " [103886 rows x 5 columns]}"
            ]
          },
          "metadata": {
            "tags": []
          },
          "execution_count": 6
        }
      ]
    },
    {
      "cell_type": "markdown",
      "metadata": {
        "id": "3juK0NCIUPEs"
      },
      "source": [
        "Aqui estamos lidando com um dicionário, onde cada aba representa uma chave, com seu conteúdo como valores. Para visualizarmos as abas disponíveis, basta usar o comando `.keys()`."
      ]
    },
    {
      "cell_type": "code",
      "metadata": {
        "id": "cZsogbiAG2V1",
        "colab": {
          "base_uri": "https://localhost:8080/",
          "height": 35
        },
        "outputId": "77b74b9d-54f7-4234-a77b-4d4d21e7b006"
      },
      "source": [
        "# verificando as abas existentes\n",
        "dados.keys()"
      ],
      "execution_count": null,
      "outputs": [
        {
          "output_type": "execute_result",
          "data": {
            "text/plain": [
              "dict_keys(['Clientes', 'Pagamentos', 'Itens'])"
            ]
          },
          "metadata": {
            "tags": []
          },
          "execution_count": 7
        }
      ]
    },
    {
      "cell_type": "markdown",
      "metadata": {
        "id": "ZsMZi5J3Ufs8"
      },
      "source": [
        "Vamos trabalhar com a aba clientes. Para selecionar uma aba, basta utilizar o código abaixo, com o nome da aba desejada entre aspas (simples ou duplas), dentro de colchetes."
      ]
    },
    {
      "cell_type": "code",
      "metadata": {
        "id": "UQw-5KMyHXl3",
        "colab": {
          "base_uri": "https://localhost:8080/",
          "height": 198
        },
        "outputId": "e3e83d02-6a2b-446d-b7e0-a12c743a3de5"
      },
      "source": [
        "# selecionando a aba\n",
        "dados['Clientes'].head()"
      ],
      "execution_count": null,
      "outputs": [
        {
          "output_type": "execute_result",
          "data": {
            "text/html": [
              "<div>\n",
              "<style scoped>\n",
              "    .dataframe tbody tr th:only-of-type {\n",
              "        vertical-align: middle;\n",
              "    }\n",
              "\n",
              "    .dataframe tbody tr th {\n",
              "        vertical-align: top;\n",
              "    }\n",
              "\n",
              "    .dataframe thead th {\n",
              "        text-align: right;\n",
              "    }\n",
              "</style>\n",
              "<table border=\"1\" class=\"dataframe\">\n",
              "  <thead>\n",
              "    <tr style=\"text-align: right;\">\n",
              "      <th></th>\n",
              "      <th>customer_id</th>\n",
              "      <th>customer_unique_id</th>\n",
              "      <th>customer_zip_code_prefix</th>\n",
              "      <th>customer_city</th>\n",
              "      <th>customer_state</th>\n",
              "    </tr>\n",
              "  </thead>\n",
              "  <tbody>\n",
              "    <tr>\n",
              "      <th>0</th>\n",
              "      <td>06b8999e2fba1a1fbc88172c00ba8bc7</td>\n",
              "      <td>861eff4711a542e4b93843c6dd7febb0</td>\n",
              "      <td>14409</td>\n",
              "      <td>franca</td>\n",
              "      <td>SP</td>\n",
              "    </tr>\n",
              "    <tr>\n",
              "      <th>1</th>\n",
              "      <td>18955e83d337fd6b2def6b18a428ac77</td>\n",
              "      <td>290c77bc529b7ac935b93aa66c333dc3</td>\n",
              "      <td>9790</td>\n",
              "      <td>sao bernardo do campo</td>\n",
              "      <td>SP</td>\n",
              "    </tr>\n",
              "    <tr>\n",
              "      <th>2</th>\n",
              "      <td>4e7b3e00288586ebd08712fdd0374a03</td>\n",
              "      <td>060e732b5b29e8181a18229c7b0b2b5e</td>\n",
              "      <td>1151</td>\n",
              "      <td>sao paulo</td>\n",
              "      <td>SP</td>\n",
              "    </tr>\n",
              "    <tr>\n",
              "      <th>3</th>\n",
              "      <td>b2b6027bc5c5109e529d4dc6358b12c3</td>\n",
              "      <td>259dac757896d24d7702b9acbbff3f3c</td>\n",
              "      <td>8775</td>\n",
              "      <td>mogi das cruzes</td>\n",
              "      <td>SP</td>\n",
              "    </tr>\n",
              "    <tr>\n",
              "      <th>4</th>\n",
              "      <td>4f2d8ab171c80ec8364f7c12e35b23ad</td>\n",
              "      <td>345ecd01c38d18a9036ed96c73b8d066</td>\n",
              "      <td>13056</td>\n",
              "      <td>campinas</td>\n",
              "      <td>SP</td>\n",
              "    </tr>\n",
              "  </tbody>\n",
              "</table>\n",
              "</div>"
            ],
            "text/plain": [
              "                        customer_id  ... customer_state\n",
              "0  06b8999e2fba1a1fbc88172c00ba8bc7  ...             SP\n",
              "1  18955e83d337fd6b2def6b18a428ac77  ...             SP\n",
              "2  4e7b3e00288586ebd08712fdd0374a03  ...             SP\n",
              "3  b2b6027bc5c5109e529d4dc6358b12c3  ...             SP\n",
              "4  4f2d8ab171c80ec8364f7c12e35b23ad  ...             SP\n",
              "\n",
              "[5 rows x 5 columns]"
            ]
          },
          "metadata": {
            "tags": []
          },
          "execution_count": 9
        }
      ]
    },
    {
      "cell_type": "markdown",
      "metadata": {
        "id": "svxl1AkLUuJD"
      },
      "source": [
        "### Criando um Relatório com SweetViz\n",
        "\n",
        "Com os dados a serem analisados carregados e prontos para uso, é hora de utilizarmos todo o poder do **SweetViz** a nossa favor.\n",
        "\n",
        "Para criar um relatório, vamos criar uma variável, e associar a ela o resultado da função `analyze()`, que leva como parâmetro o conjunto de dados a ser analisados."
      ]
    },
    {
      "cell_type": "code",
      "metadata": {
        "id": "3bj5EfAfHZXy",
        "colab": {
          "base_uri": "https://localhost:8080/",
          "height": 69
        },
        "outputId": "d9a737a3-2a2f-4658-ba2b-b35ddb3ea89b"
      },
      "source": [
        "# criando o relatório\n",
        "relatorio_clientes = sweetviz.analyze(dados['Clientes'])"
      ],
      "execution_count": null,
      "outputs": [
        {
          "output_type": "stream",
          "text": [
            ":FEATURES DONE:                    |█████████████████████| [100%]   00:03  -> (00:00 left)\n",
            ":PAIRWISE DONE:                    |█████████████████████| [100%]   00:00  -> (00:00 left)\n"
          ],
          "name": "stderr"
        },
        {
          "output_type": "stream",
          "text": [
            "Creating Associations graph... DONE!\n"
          ],
          "name": "stdout"
        }
      ]
    },
    {
      "cell_type": "markdown",
      "metadata": {
        "id": "S_O17mjKVYCL"
      },
      "source": [
        "Uma vez criado, é hora de visualizar o nosso relatório, utilizando o comando `show.html()`, passando como parâmetro o nome do arquivo html a ser criado para o relatório.\n",
        "\n",
        "Esse arquivo será salvo na nossa pasta de arquivos do Colab, no menu à esquerda, onde pode ser feito o download do mesmo para uso posterior, fora do Colab, sem a necessidade de rodar todo esse notebook novamente.\n",
        "\n",
        "**Para visualizar o relatório, baixe o arquivo hmtl gerado através da aba à esquerda. Após o download, abra o arquivo. Ele irá abrir uma janela em seu browser, com o relatório.**"
      ]
    },
    {
      "cell_type": "code",
      "metadata": {
        "id": "fH6782o_Hkch",
        "colab": {
          "base_uri": "https://localhost:8080/",
          "height": 55
        },
        "outputId": "2cf8c521-4637-4fbc-98ff-525bb86ef1cd"
      },
      "source": [
        "# criando o arquivo html e mostrando o relatório\n",
        "relatorio_clientes.show_html(\"clientes.html\")"
      ],
      "execution_count": null,
      "outputs": [
        {
          "output_type": "stream",
          "text": [
            "Report clientes.html was generated! NOTEBOOK/COLAB USERS: no browser will pop up, the report is saved in your notebook/colab files.\n"
          ],
          "name": "stdout"
        }
      ]
    },
    {
      "cell_type": "markdown",
      "metadata": {
        "id": "lhNy2MBpWk4V"
      },
      "source": [
        "Pronto! Agora que já sabemos o caminho, podemos criar análises como essas para cada uma das abas do nosso projeto.\n",
        "\n",
        "Vamos ver como ficaria o relatório para a aba Pagamentos."
      ]
    },
    {
      "cell_type": "code",
      "metadata": {
        "id": "Ry_cMXBdHqYg",
        "colab": {
          "base_uri": "https://localhost:8080/",
          "height": 69
        },
        "outputId": "c5adf2c9-d785-4eb8-b09f-b4a5bd586d4b"
      },
      "source": [
        "# criando relatório para a aba pagamentos\n",
        "relatorio_pagamentos = sweetviz.analyze(dados['Pagamentos'])"
      ],
      "execution_count": null,
      "outputs": [
        {
          "output_type": "stream",
          "text": [
            ":FEATURES DONE:                    |█████████████████████| [100%]   00:03  -> (00:00 left)\n",
            ":PAIRWISE DONE:                    |█████████████████████| [100%]   00:00  -> (00:00 left)\n"
          ],
          "name": "stderr"
        },
        {
          "output_type": "stream",
          "text": [
            "Creating Associations graph... DONE!\n"
          ],
          "name": "stdout"
        }
      ]
    },
    {
      "cell_type": "code",
      "metadata": {
        "id": "dI67tQVIJ8fW",
        "colab": {
          "base_uri": "https://localhost:8080/",
          "height": 55
        },
        "outputId": "c14714ca-a34f-4366-f4ce-2a6bec4ab778"
      },
      "source": [
        "# criando html e visualizando o relatório da aba pagamentos\n",
        "relatorio_pagamentos.show_html(\"pagamentos.html\")"
      ],
      "execution_count": null,
      "outputs": [
        {
          "output_type": "stream",
          "text": [
            "Report pagamentos.html was generated! NOTEBOOK/COLAB USERS: no browser will pop up, the report is saved in your notebook/colab files.\n"
          ],
          "name": "stdout"
        }
      ]
    },
    {
      "cell_type": "code",
      "metadata": {
        "id": "uBsqiZa_KBwI"
      },
      "source": [],
      "execution_count": null,
      "outputs": []
    }
  ]
}